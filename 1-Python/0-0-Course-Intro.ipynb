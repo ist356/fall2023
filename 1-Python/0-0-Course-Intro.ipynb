{
 "cells": [
  {
   "cell_type": "markdown",
   "id": "99052b55-edbb-4d83-9d3a-22720a346983",
   "metadata": {
    "slideshow": {
     "slide_type": "slide"
    },
    "tags": []
   },
   "source": [
    "# IST356 \n",
    "\n",
    "- Class: 20818 M001 Fall 2023\n",
    "- Monday/Wednesday 12:45PM - 2:05PM\n",
    "- Hinds Hall 243A\n",
    "- Nick Lyga\n",
    "\n"
   ]
  },
  {
   "cell_type": "markdown",
   "id": "42623881-52b5-49f4-b19e-0dac8895cac2",
   "metadata": {
    "slideshow": {
     "slide_type": "slide"
    },
    "tags": []
   },
   "source": [
    "# Agenda\n",
    "\n",
    "1. Introductions\n",
    "2. Course Intro\n",
    "3. Syllabus & Expectations\n",
    "4. Jupyterlab Tour\n"
   ]
  },
  {
   "cell_type": "markdown",
   "id": "fda05698-8741-48c2-9711-b86c5609009e",
   "metadata": {
    "slideshow": {
     "slide_type": "slide"
    },
    "tags": []
   },
   "source": [
    "# 1. Introductions\n",
    "\n",
    "- Name\n",
    "- Major\n",
    "- Why this course?\n"
   ]
  },
  {
   "cell_type": "markdown",
   "id": "811c44cf-33ed-4a75-8b53-ec7113491dd6",
   "metadata": {
    "slideshow": {
     "slide_type": "slide"
    },
    "tags": []
   },
   "source": [
    "# 2. Course Intro\n"
   ]
  },
  {
   "cell_type": "markdown",
   "id": "9de7d4a6-67d4-41f0-b3af-2d57c8700599",
   "metadata": {
    "slideshow": {
     "slide_type": "slide"
    },
    "tags": []
   },
   "source": [
    "# Why computer programming?\n",
    "\n",
    "- Computers are general-purpose machines as opposed to a hammer which limited purpose.\n",
    "- Programming is how we instruct the computer to do something.\n",
    "- Computers can do many things, but are well suited to automating repetitive tasks\n"
   ]
  },
  {
   "cell_type": "markdown",
   "id": "323ef02f-f652-40bf-9aeb-ecbbca580d9c",
   "metadata": {
    "slideshow": {
     "slide_type": "slide"
    },
    "tags": []
   },
   "source": [
    "# Information Science vs Computer Science Programming\n",
    "\n",
    "- CS: \n",
    "   - Web applications, Games, Productivity Applications, Operating Systems, Mobile, Hardware Drivers\n",
    "   - Programming for just about everything computer-related.\n",
    "- IS: \n",
    "   - Text processing, Automation, Data Wrangling, Extract-Transform-Load, Machine Learning, Data Science\n",
    "   - Programming for organizational decision making (data analytics)."
   ]
  },
  {
   "cell_type": "markdown",
   "id": "f02e58ab-7f87-41a0-90c5-90de20dba1b0",
   "metadata": {
    "slideshow": {
     "slide_type": "slide"
    },
    "tags": []
   },
   "source": [
    "# What is Data Analytics?\n",
    "\n",
    "- Making your data *actionable*.\n",
    "- Converting raw data into insights.\n",
    "- There is value in orgizational data, but the data often requires manipulation.\n",
    "- Analytics are represented in dashboards, reports, and automated actions.\n",
    "    "
   ]
  },
  {
   "cell_type": "markdown",
   "id": "2f313a8a-5743-4d1f-a111-804aeaa7574e",
   "metadata": {
    "slideshow": {
     "slide_type": "slide"
    },
    "tags": []
   },
   "source": [
    "# Types of Data Analytics \n",
    "![](http://www.gartner.com/imagesrv/newsroom/images/framework_092013.gif)\n",
    "\n",
    "* Source: Gartner"
   ]
  },
  {
   "cell_type": "markdown",
   "id": "52e18f40-0dd5-41e9-b34e-b48722490948",
   "metadata": {
    "slideshow": {
     "slide_type": "slide"
    },
    "tags": []
   },
   "source": [
    "# Data is the New Oil\n",
    "![](https://www.economist.com/sites/default/files/images/print-edition/20170506_LDD001_0.jpg)\n",
    "\n",
    "- There is value in not only our data, but our data exhaust (logs from our actions / inactions)\n",
    "- Photo: Economist"
   ]
  },
  {
   "cell_type": "markdown",
   "id": "30fe3d4c-e60c-4b6c-957d-13c560040659",
   "metadata": {
    "slideshow": {
     "slide_type": "slide"
    },
    "tags": []
   },
   "source": [
    "# Data is the new Bacon\n",
    "\n",
    "[https://www.adnews.com.au/news/data-is-the-new-bacon-says-kellogg-as-digital-ad-spend-matches-that-of-tv](https://www.adnews.com.au/news/data-is-the-new-bacon-says-kellogg-as-digital-ad-spend-matches-that-of-tv) 2015.\n",
    "\n",
    "- Served in many ways.\n",
    "- We want to consume it first.\n",
    "- When we consume it we want more.\n"
   ]
  },
  {
   "cell_type": "markdown",
   "id": "067570c7-1a9c-47d2-80ce-1b464d08eabf",
   "metadata": {
    "slideshow": {
     "slide_type": "slide"
    },
    "tags": []
   },
   "source": [
    "# Data Engineering and Data Engineers\n",
    "\n",
    "- Data Engineers are \"plumbers of data\" \n",
    "- They source, clean, enrich, analyze, data as it is prepared for analytics.\n",
    "- Not a new position, but one born from data warehousing. \n",
    "- [https://trends.google.com/trends/explore?date=all&geo=US&q=data%20engineer&hl=en](https://trends.google.com/trends/explore?date=all&geo=US&q=data%20engineer&hl=en)"
   ]
  },
  {
   "cell_type": "markdown",
   "id": "d7150162-ba8a-4d67-8529-2f8ac6ada8fb",
   "metadata": {
    "slideshow": {
     "slide_type": "slide"
    },
    "tags": []
   },
   "source": [
    "# Upon completion of this course, students will be able to:\n",
    "\n",
    "- Explain techniques for sourcing or transforming data, and be able to justify the choice of technique\n",
    "- Solve data-oriented problems using programming techniques\n",
    "- Evaluate different code modules and application programming interfaces for suitability\n",
    "- Apply data transformational programming techniques to build a larger data pipelines\n",
    "- Create production quality data pipelines from exploratory code"
   ]
  },
  {
   "cell_type": "markdown",
   "id": "5030a131-1994-45ad-926b-ffe6e778c4f2",
   "metadata": {
    "slideshow": {
     "slide_type": "slide"
    },
    "tags": []
   },
   "source": [
    "# 3. Syllabus and Expectations\n",
    "\n",
    "FOR NOW:  \n",
    "\n",
    "[https://github.com/mafudge/IST356/blob/main/syllabus.md](https://github.com/mafudge/IST356/blob/main/syllabus.md)"
   ]
  },
  {
   "cell_type": "markdown",
   "id": "6f01fc81-41a8-4722-b7bd-eec5bbd57ddf",
   "metadata": {
    "slideshow": {
     "slide_type": "slide"
    },
    "tags": []
   },
   "source": [
    "# 4. Jupyterlab Tour\n",
    "\n",
    "- Logging in [https://v2hub.ischool.syr.edu](https://v2hub.ischool.syr.edu)\n",
    "- **library** folder and course layout\n",
    "    - slides\n",
    "    - sample code\n",
    "    - assignments\n",
    "- Running code in notebooks\n",
    "- The command pallette\n",
    "- The debugger\n",
    "- Running PoP (plain old Python) code\n"
   ]
  },
  {
   "cell_type": "code",
   "execution_count": null,
   "id": "1ce37bb6-dca7-44d7-b507-6a039d438409",
   "metadata": {},
   "outputs": [],
   "source": []
  }
 ],
 "metadata": {
  "kernelspec": {
   "display_name": "Python 3 (ipykernel)",
   "language": "python",
   "name": "python3"
  },
  "language_info": {
   "codemirror_mode": {
    "name": "ipython",
    "version": 3
   },
   "file_extension": ".py",
   "mimetype": "text/x-python",
   "name": "python",
   "nbconvert_exporter": "python",
   "pygments_lexer": "ipython3",
   "version": "3.11.3"
  }
 },
 "nbformat": 4,
 "nbformat_minor": 5
}
