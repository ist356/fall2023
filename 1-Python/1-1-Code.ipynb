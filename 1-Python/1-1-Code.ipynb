{
 "cells": [
  {
   "cell_type": "markdown",
   "id": "b549bd39-52c7-4119-8dee-0a63d4ae9a2d",
   "metadata": {},
   "source": [
    "# Class Coding Challenge 1-1\n",
    "\n",
    "The role playing game ability score modifiers.\n",
    "\n",
    "A role playing game scores abilities on a scale from 1-18. Modifiers are based on the following:\n",
    "\n",
    "- Score 1-3: Modifier -3\n",
    "- Score 4-5: Modifier -2\n",
    "- Score 6-7: Modifier -1\n",
    "- Score 8-11: Modifier 0\n",
    "- Score 12-14: Modifier +1\n",
    "- Score 15-17: Modifier +2\n",
    "- Score 18: Mofidier +3\n",
    "\n",
    "Write a program to input an ability score in the range 1-18 and output the ability score and modifier.\n",
    "Handle scores outside the ability range with an output that the input is invalid. "
   ]
  },
  {
   "cell_type": "markdown",
   "id": "35809f2f-92bc-4946-8c58-57d7cab6da46",
   "metadata": {},
   "source": [
    "# Planning (double-click to edit)\n",
    "\n",
    "## Components:\n",
    "\n",
    "What components are needed? What do you need to know / use to solve this problem computationally?\n",
    "\n",
    "\n",
    "\n",
    "## List inputs and outputs\n",
    "\n",
    "\n",
    "\n",
    "## Algorithm from input to output\n",
    "\n",
    "\n"
   ]
  },
  {
   "cell_type": "code",
   "execution_count": null,
   "id": "2a148c0f-8bdb-45f8-859a-f2c50bf22242",
   "metadata": {},
   "outputs": [],
   "source": []
  }
 ],
 "metadata": {
  "kernelspec": {
   "display_name": "Python 3 (ipykernel)",
   "language": "python",
   "name": "python3"
  },
  "language_info": {
   "codemirror_mode": {
    "name": "ipython",
    "version": 3
   },
   "file_extension": ".py",
   "mimetype": "text/x-python",
   "name": "python",
   "nbconvert_exporter": "python",
   "pygments_lexer": "ipython3",
   "version": "3.11.3"
  }
 },
 "nbformat": 4,
 "nbformat_minor": 5
}
