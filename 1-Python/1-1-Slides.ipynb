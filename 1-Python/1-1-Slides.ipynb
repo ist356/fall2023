{
 "cells": [
  {
   "cell_type": "markdown",
   "id": "99052b55-edbb-4d83-9d3a-22720a346983",
   "metadata": {
    "slideshow": {
     "slide_type": "slide"
    },
    "tags": []
   },
   "source": [
    "# IST356 Python 1-1\n",
    "\n",
    "- Input\n",
    "- Output, \n",
    "- Variables\n",
    "- Types\n",
    "- Conditionals: if, else, elif, match, case\n",
    "\n"
   ]
  },
  {
   "cell_type": "markdown",
   "id": "9de7d4a6-67d4-41f0-b3af-2d57c8700599",
   "metadata": {
    "slideshow": {
     "slide_type": "slide"
    },
    "tags": []
   },
   "source": [
    "# Input, Process, Output\n",
    "\n",
    "- Input: data in\n",
    "- Process: Code to transform data\n",
    "- Output: information out\n",
    "\n",
    "\n",
    "[![](https://mermaid.ink/img/pako:eNpFjs0KwjAQhF8l7Ll9gRwEWz0Iakt_To2HpdnaQtNITBAJeXdjK7iHYWf4GMZDryUBh2HWr35EY9m5EguLt-9O17JtbpvLuqJt_jb3vqyK_FjXIfxwlqY7lq-aQQKKjMJJxmr_BQTYkRQJ4PGVNKCbrQCxhIiis7p-Lz1waxwl4B4SLR0mvBtUwAecnzElOVltLtvcdXX4AFVJO2c?type=png)](https://mermaid.live/edit#pako:eNpFjs0KwjAQhF8l7Ll9gRwEWz0Iakt_To2HpdnaQtNITBAJeXdjK7iHYWf4GMZDryUBh2HWr35EY9m5EguLt-9O17JtbpvLuqJt_jb3vqyK_FjXIfxwlqY7lq-aQQKKjMJJxmr_BQTYkRQJ4PGVNKCbrQCxhIiis7p-Lz1waxwl4B4SLR0mvBtUwAecnzElOVltLtvcdXX4AFVJO2c)\n"
   ]
  },
  {
   "cell_type": "markdown",
   "id": "323ef02f-f652-40bf-9aeb-ecbbca580d9c",
   "metadata": {
    "slideshow": {
     "slide_type": "slide"
    },
    "tags": []
   },
   "source": []
  },
  {
   "cell_type": "code",
   "execution_count": null,
   "id": "55f1e9ce-a2af-4cf0-aaab-d4cfa565d432",
   "metadata": {
    "slideshow": {
     "slide_type": "slide"
    },
    "tags": []
   },
   "outputs": [],
   "source": [
    "# What is Data Analytics?\n",
    "\n",
    "- Making your data *actionable*.\n",
    "- Converting raw data into insights.\n",
    "- \n",
    "    "
   ]
  },
  {
   "cell_type": "code",
   "execution_count": null,
   "id": "f447c89f-f943-454c-b51c-99509f734b8f",
   "metadata": {
    "slideshow": {
     "slide_type": "slide"
    },
    "tags": []
   },
   "outputs": [],
   "source": []
  },
  {
   "cell_type": "code",
   "execution_count": null,
   "id": "dd266675-081b-47f9-a0ae-0de928f3df5b",
   "metadata": {},
   "outputs": [],
   "source": []
  },
  {
   "cell_type": "code",
   "execution_count": null,
   "id": "e5d58a87-e167-44b0-b08c-e8da939f441c",
   "metadata": {},
   "outputs": [],
   "source": []
  },
  {
   "cell_type": "markdown",
   "id": "f36e533c-27c2-4683-a4ce-1b1e1d9d5714",
   "metadata": {},
   "source": [
    "- input\n",
    "- output\n",
    "- input process output\n",
    "\n",
    "Variables:\n",
    "- variables what are they?\n",
    "- assignment\n",
    "- table of data types examples of literals\n",
    "- python is stronly typed but dynamically allocated\n",
    "   - dont know the type before runtime\n",
    "   - once a type is set, it must be converted\n",
    "   \n",
    "- Code challenge 1\n",
    "\n",
    "Operators:\n",
    "- arithmetic operators : they do maths\n",
    "- relational operators: compare values\n",
    "- logical operators: assess truth \n",
    "\n",
    "- code challenge 2\n",
    "\n",
    "Conditionals\n",
    "- conditionals : alter program flow based on an boolean expression\n",
    "   - flowchart + code\n",
    "- if \n",
    "- if else\n",
    "- if elif else \n",
    "- match  (python 3.10) \n",
    "    - equivalent as elif\n",
    "    - see: https://www.freecodecamp.org/news/python-switch-statement-switch-case-example/\n",
    "- inline if expressions\n",
    "\n",
    "- Code Challenge 3"
   ]
  },
  {
   "cell_type": "code",
   "execution_count": null,
   "id": "bf8ae9c7-e111-4cc7-8d16-480697abdd6a",
   "metadata": {},
   "outputs": [],
   "source": []
  },
  {
   "cell_type": "code",
   "execution_count": null,
   "id": "fbca9a37-b446-43a8-973f-0f9a651910da",
   "metadata": {},
   "outputs": [],
   "source": []
  },
  {
   "cell_type": "code",
   "execution_count": null,
   "id": "6cf0fdcd-d99d-4fc9-957d-99badcdc9b76",
   "metadata": {},
   "outputs": [],
   "source": [
    "Python is stronly typed, but dynamically allocated\n",
    "\n",
    "- variables do not need to be declared, but should\n",
    "- strong: types must be convered"
   ]
  },
  {
   "cell_type": "code",
   "execution_count": 17,
   "id": "ee1275d8-ac57-4d83-b195-1d9c35cc53d5",
   "metadata": {
    "tags": []
   },
   "outputs": [
    {
     "name": "stdin",
     "output_type": "stream",
     "text": [
      " A\n"
     ]
    },
    {
     "name": "stdout",
     "output_type": "stream",
     "text": [
      "a\n"
     ]
    }
   ],
   "source": [
    "x = input()\n",
    "match x:\n",
    "    case \"a\":\n",
    "        print(\"a\")\n",
    "    case \"b\":\n",
    "        print(\"b\")\n",
    "    case _:\n",
    "        print(\"anything else\")"
   ]
  },
  {
   "cell_type": "code",
   "execution_count": null,
   "id": "1ce37bb6-dca7-44d7-b507-6a039d438409",
   "metadata": {},
   "outputs": [],
   "source": []
  }
 ],
 "metadata": {
  "kernelspec": {
   "display_name": "Python 3 (ipykernel)",
   "language": "python",
   "name": "python3"
  },
  "language_info": {
   "codemirror_mode": {
    "name": "ipython",
    "version": 3
   },
   "file_extension": ".py",
   "mimetype": "text/x-python",
   "name": "python",
   "nbconvert_exporter": "python",
   "pygments_lexer": "ipython3",
   "version": "3.11.3"
  }
 },
 "nbformat": 4,
 "nbformat_minor": 5
}
