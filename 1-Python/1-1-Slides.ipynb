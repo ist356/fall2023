{
 "cells": [
  {
   "cell_type": "markdown",
   "id": "99052b55-edbb-4d83-9d3a-22720a346983",
   "metadata": {
    "slideshow": {
     "slide_type": "slide"
    },
    "tags": []
   },
   "source": [
    "# IST356 Python 1-1\n",
    "\n",
    "- Input\n",
    "- Output, \n",
    "- Variables\n",
    "- Types\n",
    "- Conditionals: if, else, elif, match, case\n",
    "\n"
   ]
  },
  {
   "cell_type": "markdown",
   "id": "9de7d4a6-67d4-41f0-b3af-2d57c8700599",
   "metadata": {
    "slideshow": {
     "slide_type": "slide"
    },
    "tags": []
   },
   "source": [
    "# Input, Process, Output\n",
    "\n",
    "- Input: data in\n",
    "- Process: Code to transform data\n",
    "- Output: information out\n",
    "\n",
    "\n",
    "[![](https://mermaid.ink/img/pako:eNpFjs0KwjAQhF8l7Ll9gRwEWz0Iakt_To2HpdnaQtNITBAJeXdjK7iHYWf4GMZDryUBh2HWr35EY9m5EguLt-9O17JtbpvLuqJt_jb3vqyK_FjXIfxwlqY7lq-aQQKKjMJJxmr_BQTYkRQJ4PGVNKCbrQCxhIiis7p-Lz1waxwl4B4SLR0mvBtUwAecnzElOVltLtvcdXX4AFVJO2c?type=png)](https://mermaid.live/edit#pako:eNpFjs0KwjAQhF8l7Ll9gRwEWz0Iakt_To2HpdnaQtNITBAJeXdjK7iHYWf4GMZDryUBh2HWr35EY9m5EguLt-9O17JtbpvLuqJt_jb3vqyK_FjXIfxwlqY7lq-aQQKKjMJJxmr_BQTYkRQJ4PGVNKCbrQCxhIiis7p-Lz1waxwl4B4SLR0mvBtUwAecnzElOVltLtvcdXX4AFVJO2c)\n"
   ]
  },
  {
   "cell_type": "markdown",
   "id": "323ef02f-f652-40bf-9aeb-ecbbca580d9c",
   "metadata": {
    "slideshow": {
     "slide_type": "slide"
    },
    "tags": []
   },
   "source": [
    "# Basic Input / Output in Python\n",
    "\n",
    "- `input()` captures characters from standard input (your keyboard) and returns them\n",
    "- `print(x)` displays the value of `x` to standard output (your screen)"
   ]
  },
  {
   "cell_type": "markdown",
   "id": "ccf3ac03-0992-42c1-b5b3-1da0221aa468",
   "metadata": {
    "slideshow": {
     "slide_type": "slide"
    },
    "tags": []
   },
   "source": [
    "# Variables: Data storage\n",
    "\n",
    "- Programming is useless without data storage"
   ]
  },
  {
   "cell_type": "code",
   "execution_count": 1,
   "id": "55f1e9ce-a2af-4cf0-aaab-d4cfa565d432",
   "metadata": {
    "slideshow": {
     "slide_type": "fragment"
    },
    "tags": []
   },
   "outputs": [
    {
     "name": "stdin",
     "output_type": "stream",
     "text": [
      "Enter your name: mike\n"
     ]
    },
    {
     "name": "stdout",
     "output_type": "stream",
     "text": [
      "Hello,\n"
     ]
    }
   ],
   "source": [
    "input(\"Enter your name:\")\n",
    "print(\"Hello,\") # How do I access the value entered on line 1????"
   ]
  },
  {
   "cell_type": "markdown",
   "id": "57c60979-2463-45d7-a2ce-9c5ecb16d483",
   "metadata": {
    "slideshow": {
     "slide_type": "slide"
    },
    "tags": []
   },
   "source": [
    "# Variables\n",
    "\n",
    "- Named areas of computer memory for storing data.\n",
    "- Variables are volatile \n",
    "    - they do not survive subsequent executions of the code\n",
    "    - in a notebook environment, that's a kernel restart\n",
    "- Variable names \n",
    "    - must begin with a letter:  yes:`ten` no:`10`\n",
    "    - are case sensitive: `G` and `g` are different variables!\n",
    "    - convention is to use all lower case: `customer_name`"
   ]
  },
  {
   "cell_type": "markdown",
   "id": "2f2ac439-fd11-4ef3-9907-05de632cd510",
   "metadata": {
    "slideshow": {
     "slide_type": "slide"
    },
    "tags": []
   },
   "source": [
    "# Using Variables\n",
    "\n",
    "- To write to a variable we use the assignment operator `=`\n",
    "    - On the left is the variable, on the right is the value. `x = 10`\n",
    "- To read the contents of a variable we use its name: e.g. `x`"
   ]
  },
  {
   "cell_type": "code",
   "execution_count": null,
   "id": "e5d58a87-e167-44b0-b08c-e8da939f441c",
   "metadata": {
    "slideshow": {
     "slide_type": "fragment"
    },
    "tags": []
   },
   "outputs": [],
   "source": [
    "your_name = input(\"Enter your name:\")\n",
    "print(\"Hello,\", your_name)"
   ]
  },
  {
   "cell_type": "markdown",
   "id": "6c0265af-130b-4282-84cc-24f321eb9085",
   "metadata": {
    "slideshow": {
     "slide_type": "slide"
    },
    "tags": []
   },
   "source": [
    "# Variable Assignment Order of Operations\n",
    "\n",
    "The right side of the assignment `=` must be *evaluated to a value*  \n",
    "before that value can be assigned to the variable \n"
   ]
  },
  {
   "cell_type": "code",
   "execution_count": 5,
   "id": "b34fd304-0899-40a6-9467-faf40111e4ad",
   "metadata": {
    "slideshow": {
     "slide_type": "fragment"
    },
    "tags": []
   },
   "outputs": [
    {
     "name": "stdout",
     "output_type": "stream",
     "text": [
      "1\n",
      "2\n",
      "0\n"
     ]
    }
   ],
   "source": [
    "count = 1\n",
    "print(count) # prints 1\n",
    "count = count + 1\n",
    "print(count) # prints 2 \n",
    "count = count + count - 4\n",
    "print(count) # prints 0"
   ]
  },
  {
   "cell_type": "markdown",
   "id": "02bf6abc-b0a1-48d0-bd3e-051073a48385",
   "metadata": {
    "slideshow": {
     "slide_type": "slide"
    },
    "tags": []
   },
   "source": [
    "# Variable Data Types \n",
    "\n",
    "- Variables are assigned a type based on the literal assigned to it.\n",
    "\n",
    "<table style=\"font-size:1.5em;\">\n",
    "    <thead><tr>\n",
    "        <th>Type</th>\n",
    "        <th>Purpose</th>\n",
    "        <th>Examples of a Literal</th>\n",
    "    </tr></thead>\n",
    "    <tbody>\n",
    "    <tr>\n",
    "        <td><code>int</code></td>\n",
    "        <td>Numeric type for integers only</td>\n",
    "        <td>45, -10</td>\n",
    "    </tr>\n",
    "    <tr>\n",
    "        <td><code>float</code></td>\n",
    "        <td>Numeric type floating point numbers</td>\n",
    "        <td>3.14159, 19.95</td>\n",
    "    </tr>\n",
    "    <tr>\n",
    "        <td><code>bool</code></td>\n",
    "        <td>True or False values</td>\n",
    "        <td>True, False</td>\n",
    "    </tr>\n",
    "    <tr>\n",
    "        <td><code>str</code></td>\n",
    "        <td>Characters and text</td>\n",
    "        <td>\"A\", 'Mike'</td>\n",
    "    </tr>\n",
    "  </tbody>\n",
    "</table>"
   ]
  },
  {
   "cell_type": "markdown",
   "id": "027089f6-7231-44dd-87f3-d2ba31a0b5ff",
   "metadata": {
    "slideshow": {
     "slide_type": "slide"
    },
    "tags": []
   },
   "source": [
    "# Variable Data Types (cont'd)\n",
    "\n",
    "Python is **strongly typed** but **dynamically allocated**\n",
    "\n",
    "- Python does not know the type before the code executes. \n",
    "- Once a variable's type is set, it must be converted to another type."
   ]
  },
  {
   "cell_type": "markdown",
   "id": "e0eabd49-755a-4eed-b2e3-3db83c3e381d",
   "metadata": {
    "slideshow": {
     "slide_type": "slide"
    },
    "tags": []
   },
   "source": [
    "# Type Inspection and Conversion Functions\n",
    "\n",
    "<table style=\"font-size:1.5em;\">\n",
    "    <thead><tr>\n",
    "        <th>Python Function</th>\n",
    "        <th>What It Does</th>\n",
    "        <th>Example of Use</th>\n",
    "    </tr></thead>\n",
    "    <tbody>\n",
    "    <tr>\n",
    "        <td><code>type(<em>n</em>)</code></td>\n",
    "        <td>Inspection: Returns the current type of <em>n</em></td>\n",
    "        <td><code>type(13) == int</code></td>\n",
    "    </tr>\n",
    "    <tr>\n",
    "        <td><code>int(<em>n</em>)</code></td>\n",
    "        <td>Converts <em>n</em> to type <b>int</b></td>\n",
    "        <td><code>int(\"45\") == 45</code></td>\n",
    "    </tr>\n",
    "    <tr>\n",
    "        <td><code>float(<em>n</em>)</code></td>\n",
    "        <td>Converts <em>n</em> to type <b>float</b></td>\n",
    "        <td><code>float(45) == 45.0</code></td>\n",
    "    </tr>\n",
    "    <tr>\n",
    "        <td><code>str(<em>n</em>)</code></td>\n",
    "        <td>Converts <em>n</em> to type <b>str</b></td>\n",
    "        <td><code>str(4.0) == '4.0'</code></td>\n",
    "    </tr>\n",
    "  </tbody>\n",
    "</table>"
   ]
  },
  {
   "cell_type": "markdown",
   "id": "b66756e5-f741-483d-a946-4a6e5d2d1b73",
   "metadata": {
    "slideshow": {
     "slide_type": "slide"
    },
    "tags": []
   },
   "source": [
    "# Arithmetic Operators\n",
    "\n",
    "<table style=\"font-size:1.5em;\">\n",
    "    <thead><tr>\n",
    "        <th>Operator</th>\n",
    "        <th>What it Does</th>\n",
    "        <th>Example of Use</th>\n",
    "    </tr></thead>\n",
    "    <tbody>\n",
    "    <tr>\n",
    "        <td><code>+</code></td>\n",
    "        <td>Addition or string concenation</td>\n",
    "        <td><code>3 + 4 == 7</code></td>\n",
    "    </tr>\n",
    "    <tr>\n",
    "        <td><code>-</code></td>\n",
    "        <td>Subtraction</td>\n",
    "        <td><code>4 - 3 == 1</code></td>\n",
    "    </tr>\n",
    "    <tr>\n",
    "        <td><code>*</code></td>\n",
    "        <td>Multiplication</td>\n",
    "        <td><code>3 * 4 == 12</code></td>\n",
    "    </tr>\n",
    "    <tr>\n",
    "        <td><code>/</code></td>\n",
    "        <td>Division</td>\n",
    "        <td><code>10 / 3 == 3.33333</code></td>\n",
    "    </tr>\n",
    "    <tr>\n",
    "        <td><code>//</code></td>\n",
    "        <td>Intger division (quotent)</td>\n",
    "        <td><code>10 // 3 == 3</code></td>\n",
    "    </tr>\n",
    "    <tr>\n",
    "        <td><code>%</code></td>\n",
    "        <td>Modulo (remainder)</td>\n",
    "        <td><code>10 % 3 == 1</code></td>\n",
    "    </tr>\n",
    "    <tr>\n",
    "        <td><code>( )</code></td>\n",
    "        <td>Force an order of operations</td>\n",
    "        <td><code>2 * (3 + 4) == 14</code></td>\n",
    "    </tr>\n",
    "  </tbody>\n",
    "</table>"
   ]
  },
  {
   "cell_type": "markdown",
   "id": "51e35ab4-e2da-4b3e-a412-9109a87a7446",
   "metadata": {
    "slideshow": {
     "slide_type": "slide"
    },
    "tags": []
   },
   "source": [
    "# Code Demo 1-1-1\n",
    "\n",
    "This demo will demonstrate\n",
    "\n",
    "- input and output\n",
    "- using type conversion\n",
    "- variable assignment, order of operations\n",
    "\n",
    "Task:\n",
    "\n",
    "- input two integers and add them together\n"
   ]
  },
  {
   "cell_type": "markdown",
   "id": "410f9abc-2f89-4d76-a01e-b2ecc71726f5",
   "metadata": {
    "slideshow": {
     "slide_type": "slide"
    },
    "tags": []
   },
   "source": [
    "# Self Check 1-1-1\n",
    "\n",
    "1. What does `float()` do?\n",
    "2. In `total = first_number + second_number` explain what is assigned to `total`?\n",
    "3. How can you determine the type of any variable?"
   ]
  },
  {
   "cell_type": "markdown",
   "id": "48934e7d-ef1f-4af8-a330-9714f862da80",
   "metadata": {
    "slideshow": {
     "slide_type": "slide"
    },
    "tags": []
   },
   "source": [
    "# Variable Interpolation\n",
    "\n",
    "- Interpolation will convert variables back to strings\n",
    "- We can format the variables as we do this\n",
    "- We must use an interpolation string which begins with `f`\n",
    "- Thus these are called f-strings."
   ]
  },
  {
   "cell_type": "code",
   "execution_count": 9,
   "id": "2201b631-c7c7-4d25-87cd-e487ea126193",
   "metadata": {
    "slideshow": {
     "slide_type": "fragment"
    },
    "tags": []
   },
   "outputs": [
    {
     "name": "stdout",
     "output_type": "stream",
     "text": [
      "His name is Peter and he is 35 years old\n"
     ]
    }
   ],
   "source": [
    "name = \"Peter\"\n",
    "age = 35\n",
    "interpolated = f\"His name is {name} and he is {age} years old\"\n",
    "print(interpolated)"
   ]
  },
  {
   "cell_type": "markdown",
   "id": "22716b22-66fa-4ee4-9aa8-4301474cefc7",
   "metadata": {
    "slideshow": {
     "slide_type": "slide"
    },
    "tags": []
   },
   "source": [
    "# Boolean Expressions\n",
    "\n",
    "- Boolean expresisons evaluate to either `True` or `False` (type `bool`).\n",
    "- Boolean expressions `ask a question` e.g. \"Is the student GPA greater than 3.2?\n"
   ]
  },
  {
   "cell_type": "code",
   "execution_count": 10,
   "id": "4cab4eba-d309-4767-9276-f2c309c1751e",
   "metadata": {
    "slideshow": {
     "slide_type": "subslide"
    },
    "tags": []
   },
   "outputs": [
    {
     "data": {
      "text/plain": [
       "False"
      ]
     },
     "execution_count": 10,
     "metadata": {},
     "output_type": "execute_result"
    }
   ],
   "source": [
    "student_gpa = 2.8\n",
    "student_gpa > 3.2"
   ]
  },
  {
   "cell_type": "markdown",
   "id": "1f18b5a9-84c6-4413-b045-4f14fc75338f",
   "metadata": {
    "slideshow": {
     "slide_type": "slide"
    },
    "tags": []
   },
   "source": [
    "# Relational Operators\n",
    "\n",
    "- relational operators create Boolean Expressions\n",
    "\n",
    "<table style=\"font-size:1.5em;\">\n",
    "    <thead><tr>\n",
    "        <th>Operator</th>\n",
    "        <th>What it does</th>\n",
    "        <th>Examples</th>\n",
    "    </tr></thead>\n",
    "    <tbody>\n",
    "    <tr>\n",
    "        <td><code> > </code></td>\n",
    "        <td> Greater than </td>\n",
    "        <td> 4>2 (True)</td>\n",
    "    </tr>\n",
    "    <tr>\n",
    "        <td><code> < </code></td>\n",
    "        <td> Less than </td>\n",
    "        <td> 4<2 (False)</td>\n",
    "    </tr>\n",
    "    <tr>\n",
    "        <td><code> == </code></td>\n",
    "        <td> Equal To </td>\n",
    "        <td> 4==2 (False)</td>\n",
    "    </tr>\n",
    "    <tr>\n",
    "        <td><code> != </code></td>\n",
    "        <td> Not Equal To </td>\n",
    "        <td> 4!=2 (True)</td>\n",
    "    </tr>\n",
    "    <tr>\n",
    "        <td><code> >= </code></td>\n",
    "        <td> Greater Than or Equal To </td>\n",
    "        <td> 4>=2 (True)</td>\n",
    "    <tr>\n",
    "        <td><code> <= </code></td>\n",
    "        <td> Less Than or Equal To </td>\n",
    "        <td> 4<=2 (True)</td>\n",
    "    </tr>\n",
    "  </tbody>\n",
    "</table>"
   ]
  },
  {
   "cell_type": "markdown",
   "id": "182c68bb-737f-4c13-a8aa-a1b0bd10090e",
   "metadata": {
    "slideshow": {
     "slide_type": "slide"
    },
    "tags": []
   },
   "source": [
    "# Logical Operators\n",
    "\n",
    "<table style=\"font-size:1.5em;\">\n",
    "    <thead><tr>\n",
    "        <th>Operator</th>\n",
    "        <th>What it does</th>\n",
    "        <th>Examples</th>\n",
    "    </tr></thead>\n",
    "    <tbody>\n",
    "    <tr>\n",
    "        <td><code> and </code></td>\n",
    "        <td> True only when both are True </td>\n",
    "        <td> 4>2 and 4<5 (True)</td>\n",
    "    </tr>\n",
    "    <tr>\n",
    "        <td><code> or </code></td>\n",
    "        <td> False only when both are False </td>\n",
    "        <td> 4<2 or 4==4 (True)</td>\n",
    "    </tr>\n",
    "    <tr>\n",
    "        <td><code> not </code></td>\n",
    "        <td> Negation(Opposite) </td>\n",
    "        <td> not 4==2 (True)</td>\n",
    "    </tr>\n",
    "    <tr>\n",
    "        <td><code> in </code></td>\n",
    "        <td> Set operator </td>\n",
    "        <td> 4 in [2,4,7] (True)</td>\n",
    "    </tr>\n",
    "  </tbody>\n",
    "</table>\n"
   ]
  },
  {
   "cell_type": "markdown",
   "id": "6095bb54-22c9-4d4e-a7da-0511cf9b2ac1",
   "metadata": {
    "slideshow": {
     "slide_type": "slide"
    },
    "tags": []
   },
   "source": [
    "# Program Flow Control with IF\n",
    "\n",
    "- The `if` statement is used to branch your code based on a Boolean expression. "
   ]
  },
  {
   "cell_type": "code",
   "execution_count": null,
   "id": "753f764f-49ad-443f-a54e-5ef8ae597393",
   "metadata": {
    "slideshow": {
     "slide_type": "fragment"
    },
    "tags": []
   },
   "outputs": [],
   "source": [
    "if boolean-expression:\n",
    "    statements-when-true\n",
    "else:\n",
    "    statements-when-false"
   ]
  },
  {
   "cell_type": "markdown",
   "id": "522da7ed-8db1-4408-84e4-82979c2fb11a",
   "metadata": {
    "slideshow": {
     "slide_type": "fragment"
    },
    "tags": []
   },
   "source": [
    "[![](https://mermaid.ink/img/pako:eNplULsOwjAM_JXIE0jND3RAghYmWICNMJjGpZXapEpcAar676QvCQlP9p0fd-4gs5oghryyr6xAx-J4VkaE2K5WYr2e8t3NMzLVZNjLV0FGsmvpPpHJH5lj5Rc27R7WVoRG0rtx5H1pTT9R-58LWyHlRqTzTCjENVwYMLH7AQ_D5hFNZmXj3H5WshQQQU2uxlIHa91AKuAiSFQQh1RTjm3FCpTpQyu2bC8fk0E8uIqgbXTwk5b4dFhDPLqJgHTJ1p2md41f67-9_WBU?type=png)](https://mermaid.live/edit#pako:eNplULsOwjAM_JXIE0jND3RAghYmWICNMJjGpZXapEpcAar676QvCQlP9p0fd-4gs5oghryyr6xAx-J4VkaE2K5WYr2e8t3NMzLVZNjLV0FGsmvpPpHJH5lj5Rc27R7WVoRG0rtx5H1pTT9R-58LWyHlRqTzTCjENVwYMLH7AQ_D5hFNZmXj3H5WshQQQU2uxlIHa91AKuAiSFQQh1RTjm3FCpTpQyu2bC8fk0E8uIqgbXTwk5b4dFhDPLqJgHTJ1p2md41f67-9_WBU)"
   ]
  },
  {
   "cell_type": "markdown",
   "id": "e10aadd2-71a8-49c8-8d78-127ce1dfc13a",
   "metadata": {
    "slideshow": {
     "slide_type": "slide"
    },
    "tags": []
   },
   "source": [
    "# Multiple Tests, Single Decision: ELIF\n",
    "\n",
    "- Use `elif` to make more than one decision in your if statement. Only one code block within the ladder is executed."
   ]
  },
  {
   "cell_type": "code",
   "execution_count": 12,
   "id": "95d6c0a9-ea7d-4efe-836c-2faba06bb16e",
   "metadata": {
    "slideshow": {
     "slide_type": "fragment"
    },
    "tags": []
   },
   "outputs": [],
   "source": [
    "if boolean-expression1:\n",
    "    statements-when-exp1-true\n",
    "elif boolean-expression2:\n",
    "    statements-when-exp2-true\n",
    "elif boolean-expression3:\n",
    "    statements-when-exp3-true\n",
    "else:\n",
    "    statements-none-are-true"
   ]
  },
  {
   "cell_type": "markdown",
   "id": "8ee6b7c3-2bfa-466e-b17a-1a79db6b57b7",
   "metadata": {
    "slideshow": {
     "slide_type": "fragment"
    },
    "tags": []
   },
   "source": [
    "[![](https://mermaid.ink/img/pako:eNptkk9PxCAQxb8KmdNuUg6FnnowWWM96UW9WQ9YprZJCxtKs5qm3136hw3ocpr58TLwHkxQaYmQQ93pS9UIY8nTS6mIW6fDgRyPW32fTp9adygUxe-zoem8cxZz5jmPOd95kb4PVljsUdmBXhr086g1I37sInZbxCIRvy3ikSj7J1J604WqwOiJUHrn7HrbriWPohtwwc6ut_2Hc2874kUWjnlzJ640DYdcKQtHXCn3ua33KnxAUcejLvMdJNCj6UUr3fNOy24JtnFZlJC7UmItxs6WUKrZScVo9euPqiBfkklgPEsX3EMrvozoIa8XTwmgbK02z9uXWX_O_AsXZalz?type=png)](https://mermaid.live/edit#pako:eNptkk9PxCAQxb8KmdNuUg6FnnowWWM96UW9WQ9YprZJCxtKs5qm3136hw3ocpr58TLwHkxQaYmQQ93pS9UIY8nTS6mIW6fDgRyPW32fTp9adygUxe-zoem8cxZz5jmPOd95kb4PVljsUdmBXhr086g1I37sInZbxCIRvy3ikSj7J1J604WqwOiJUHrn7HrbriWPohtwwc6ut_2Hc2874kUWjnlzJ640DYdcKQtHXCn3ua33KnxAUcejLvMdJNCj6UUr3fNOy24JtnFZlJC7UmItxs6WUKrZScVo9euPqiBfkklgPEsX3EMrvozoIa8XTwmgbK02z9uXWX_O_AsXZalz)"
   ]
  },
  {
   "cell_type": "markdown",
   "id": "26677918-cad5-4347-8fba-274424f39222",
   "metadata": {
    "slideshow": {
     "slide_type": "slide"
    },
    "tags": []
   },
   "source": [
    "# Code Demo 1-1-2\n",
    "\n",
    "This demo will demonstrate:\n",
    "\n",
    "- boolean expressions, relational and logical operators\n",
    "- if ladder (multiple tests, single decisions)\n",
    "- one input, one output.\n",
    "- f string interpolation\n",
    "\n",
    "Task:\n",
    "\n",
    "- input a integer > 0 and then:\n",
    "    - if number is not >0 print \"result: follow instructions\"\n",
    "    - if the integer is divisible by two, print \"result: two\"\n",
    "    - if the integer is divisible by 5, print \"result: five\"\n",
    "    - if the integer is divisible by two and 5 print \"result: ten\""
   ]
  },
  {
   "cell_type": "markdown",
   "id": "f9400475-faa2-4872-af0d-54b8b4913986",
   "metadata": {
    "slideshow": {
     "slide_type": "slide"
    },
    "tags": []
   },
   "source": [
    "# Self Check 1-1-2\n",
    "\n",
    "1. How many times do you need to run this program to adequately test it?\n",
    "2. If `number=50` what is `number < 70 and number >2`?\n",
    "3. If `number=10` what is `number < 70 or number == 2`?\n",
    "4. Explain the difference between two `if` statements and one `if ... elif` statement.\n"
   ]
  },
  {
   "cell_type": "markdown",
   "id": "aa4b2c2f-a290-4ce8-ba92-bcb22001441b",
   "metadata": {
    "slideshow": {
     "slide_type": "slide"
    },
    "tags": []
   },
   "source": [
    "# One Test, Single Decision: Match Case Statement\n",
    "\n",
    "- Similar to `elif` in that a single decision is made\n",
    "- Different from `elif` in that there is a single test."
   ]
  },
  {
   "cell_type": "code",
   "execution_count": null,
   "id": "7432a84f-c6cc-40ac-95b5-66eaaddfcdf4",
   "metadata": {
    "slideshow": {
     "slide_type": "fragment"
    },
    "tags": []
   },
   "outputs": [],
   "source": [
    "match expression:\n",
    "    case value-1:\n",
    "        statements-when-value-1-matches\n",
    "    case value-2:\n",
    "        statements-when-value-1-matches\n",
    "    case _:\n",
    "        statements-when-no-value-matches"
   ]
  },
  {
   "cell_type": "markdown",
   "id": "8394bde5-2cf0-4194-8092-6c4694f7c77d",
   "metadata": {
    "slideshow": {
     "slide_type": "fragment"
    },
    "tags": []
   },
   "source": [
    "[![](https://mermaid.ink/img/pako:eNp1kTFrwzAQhf-KuCmBaLDx5KGQ0mzp0oxVh8M61wZLCtIpaTH-71UtG9K01XTv3gd6TxqhcZqghnZw16ZDz-L4oqxIZ7_ZiO02z4_FSB9nTyH0zk55dyheAyOTIctBXjuy8oJDJFlIg9x0FN4WsPwHLO_B6hdo3cLekTfZ9kLKh5RwTZqkWILMzuEPp8xOeetYJ-ZLslWtJbNcm_xQ1apgB4a8wV6nlxy_XQXcpR4K6jRqajEOrEDZKaEY2Z0-bQM1-0g7iGedSj_1-O7RQN3iENKWdM_OP-ffmT9p-gKk14CR?type=png)](https://mermaid.live/edit#pako:eNp1kTFrwzAQhf-KuCmBaLDx5KGQ0mzp0oxVh8M61wZLCtIpaTH-71UtG9K01XTv3gd6TxqhcZqghnZw16ZDz-L4oqxIZ7_ZiO02z4_FSB9nTyH0zk55dyheAyOTIctBXjuy8oJDJFlIg9x0FN4WsPwHLO_B6hdo3cLekTfZ9kLKh5RwTZqkWILMzuEPp8xOeetYJ-ZLslWtJbNcm_xQ1apgB4a8wV6nlxy_XQXcpR4K6jRqajEOrEDZKaEY2Z0-bQM1-0g7iGedSj_1-O7RQN3iENKWdM_OP-ffmT9p-gKk14CR)"
   ]
  },
  {
   "cell_type": "markdown",
   "id": "3623bb0f-e8c1-4151-8955-a9a3be32bb9c",
   "metadata": {
    "slideshow": {
     "slide_type": "slide"
    },
    "tags": []
   },
   "source": [
    "# Class Coding Challenge 1-1\n",
    "\n",
    "The role playing game ability score modifiers.\n",
    "\n",
    "A role playing game scores abilities on a scale from 1-18. Modifiers are based on the following:\n",
    "\n",
    "- Score 1-3: Modifier -3\n",
    "- Score 4-5: Modifier -2\n",
    "- Score 6-7: Modifier -1\n",
    "- Score 8-11: Modifier 0\n",
    "- Score 12-14: Modifier +1\n",
    "- Score 15-17: Modifier +2\n",
    "- Score 18: Mofidier +3\n",
    "\n",
    "Write a program to input an ability score in the range 1-18 and output the ability score and modifier.\n",
    "Handle scores outside the ability range with an output that the input is invalid. \n",
    "    \n"
   ]
  }
 ],
 "metadata": {
  "kernelspec": {
   "display_name": "Python 3 (ipykernel)",
   "language": "python",
   "name": "python3"
  },
  "language_info": {
   "codemirror_mode": {
    "name": "ipython",
    "version": 3
   },
   "file_extension": ".py",
   "mimetype": "text/x-python",
   "name": "python",
   "nbconvert_exporter": "python",
   "pygments_lexer": "ipython3",
   "version": "3.11.3"
  }
 },
 "nbformat": 4,
 "nbformat_minor": 5
}
