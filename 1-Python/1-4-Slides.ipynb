{
 "cells": [
  {
   "cell_type": "markdown",
   "id": "f75458e1-0c44-4eea-8276-ed0a69fa7f53",
   "metadata": {},
   "source": [
    "# IST356 Python 1-4\n",
    "\n",
    " - Modules \n",
    " - Built-in: Python standard library\n",
    " - Various ways to import\n",
    " - Creating your own modules and importing them\n",
    " - pip and pypi to install other code\n",
    " - running .py from the command line\n"
   ]
  },
  {
   "cell_type": "markdown",
   "id": "61e8dd4f-9f57-41d1-9b60-639220477e40",
   "metadata": {
    "tags": []
   },
   "source": [
    "- Other people's code... what makes python valuable\n",
    "- import, dir and help\n",
    "- python standard library\n",
    "- different ways to import from x import y, import x as x from x import y as z\n",
    "- don't over import\n",
    "- importing your own code\n",
    "   - from python file\n",
    "   - from ipynb\n",
    "- pip, pypi\n",
    "    - warnings and dangers of OPC\n",
    "- running python from the command line.\n"
   ]
  },
  {
   "cell_type": "code",
   "execution_count": 2,
   "id": "751972ed-7407-4999-9b7b-0530d3796fd5",
   "metadata": {
    "tags": []
   },
   "outputs": [],
   "source": [
    "import import_ipynb"
   ]
  },
  {
   "cell_type": "code",
   "execution_count": 3,
   "id": "15aa0dd6-e4ed-4598-a32f-bebcfb0a33bf",
   "metadata": {
    "tags": []
   },
   "outputs": [
    {
     "name": "stdout",
     "output_type": "stream",
     "text": [
      "importing Jupyter notebook from SampleNotebook.ipynb\n"
     ]
    }
   ],
   "source": [
    "import SampleModule as sm\n",
    "import SampleNotebook as sn"
   ]
  },
  {
   "cell_type": "code",
   "execution_count": 5,
   "id": "b4330a5c-98b2-4161-ab20-652e17f39ee3",
   "metadata": {
    "tags": []
   },
   "outputs": [
    {
     "name": "stdout",
     "output_type": "stream",
     "text": [
      "Hello, mike from a Module!\n",
      "Hello, mike from a Notebook!\n"
     ]
    }
   ],
   "source": [
    "print(sm.sayHello(\"mike\"))\n",
    "print(sn.sayHello(\"mike\"))"
   ]
  },
  {
   "cell_type": "code",
   "execution_count": null,
   "id": "338d99ec-2b1b-4813-ba81-b333abd3ac69",
   "metadata": {},
   "outputs": [],
   "source": []
  }
 ],
 "metadata": {
  "kernelspec": {
   "display_name": "Python 3 (ipykernel)",
   "language": "python",
   "name": "python3"
  },
  "language_info": {
   "codemirror_mode": {
    "name": "ipython",
    "version": 3
   },
   "file_extension": ".py",
   "mimetype": "text/x-python",
   "name": "python",
   "nbconvert_exporter": "python",
   "pygments_lexer": "ipython3",
   "version": "3.11.3"
  }
 },
 "nbformat": 4,
 "nbformat_minor": 5
}
