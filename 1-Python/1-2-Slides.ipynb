{
 "cells": [
  {
   "cell_type": "markdown",
   "id": "f75458e1-0c44-4eea-8276-ed0a69fa7f53",
   "metadata": {},
   "source": [
    "# IST356 Python 1-2\n",
    "\n",
    "- Iterations: while and for\n",
    "- Break and continue\n",
    "- Lists and list methods\n",
    "- List comprehensions\n",
    "- Dictionaries: dict methods mutable mapping type\n",
    "- tuples: immutable mapping type"
   ]
  },
  {
   "cell_type": "markdown",
   "id": "61e8dd4f-9f57-41d1-9b60-639220477e40",
   "metadata": {
    "tags": []
   },
   "source": [
    "Iterations\n",
    "\n",
    "- anatomy of a loop\n",
    "- for loop\n",
    "- while loop\n",
    "- break and continue\n",
    "\n",
    "Lists\n",
    "\n",
    "- mutable sequences\n",
    "- lists and list operators\n",
    "- list methods\n",
    "- comprehensions: avoid a loop when the input and output are lists\n",
    "\n",
    "Dictionaries\n",
    "- mutable mapping types\n",
    "- dict operations and methods\n",
    "- dict iterations .items(), keys(), values()\n",
    "\n",
    "Tuples\n",
    "- imputable mapping types of implicit ordering a.k.a orders pairs\n",
    "- for key,value in ...\n",
    "\n"
   ]
  },
  {
   "cell_type": "code",
   "execution_count": 14,
   "id": "b4ca62f5-300f-4897-aac2-4950e4cd9dbe",
   "metadata": {
    "tags": []
   },
   "outputs": [],
   "source": [
    "x = {'a': 1, 'b': 2}"
   ]
  },
  {
   "cell_type": "code",
   "execution_count": 17,
   "id": "d4ff00c0-423c-4b97-a34e-5800f76ba921",
   "metadata": {
    "tags": []
   },
   "outputs": [
    {
     "ename": "SyntaxError",
     "evalue": "did you forget parentheses around the comprehension target? (4125006736.py, line 1)",
     "output_type": "error",
     "traceback": [
      "\u001b[0;36m  Cell \u001b[0;32mIn[17], line 1\u001b[0;36m\u001b[0m\n\u001b[0;31m    y = { w,2 for w in x.keys() }\u001b[0m\n\u001b[0m          ^\u001b[0m\n\u001b[0;31mSyntaxError\u001b[0m\u001b[0;31m:\u001b[0m did you forget parentheses around the comprehension target?\n"
     ]
    }
   ],
   "source": [
    "y = { w,2 for w in x.keys() }"
   ]
  },
  {
   "cell_type": "code",
   "execution_count": 16,
   "id": "f9a9bb9d-3aee-4809-b8a9-585a990f35c9",
   "metadata": {
    "tags": []
   },
   "outputs": [
    {
     "data": {
      "text/plain": [
       "{'a', 'b'}"
      ]
     },
     "execution_count": 16,
     "metadata": {},
     "output_type": "execute_result"
    }
   ],
   "source": [
    "y"
   ]
  },
  {
   "cell_type": "code",
   "execution_count": 21,
   "id": "0cbc56b1-ea95-464f-9d7f-fa9ab3e26e9e",
   "metadata": {
    "tags": []
   },
   "outputs": [
    {
     "name": "stdout",
     "output_type": "stream",
     "text": [
      "a 1\n",
      "b 2\n"
     ]
    }
   ],
   "source": [
    "for key, value in x.items():\n",
    "    print(key, value)"
   ]
  },
  {
   "cell_type": "code",
   "execution_count": null,
   "id": "273a0f83-d466-46a9-9cf7-33e09a0a8352",
   "metadata": {},
   "outputs": [],
   "source": []
  }
 ],
 "metadata": {
  "kernelspec": {
   "display_name": "Python 3 (ipykernel)",
   "language": "python",
   "name": "python3"
  },
  "language_info": {
   "codemirror_mode": {
    "name": "ipython",
    "version": 3
   },
   "file_extension": ".py",
   "mimetype": "text/x-python",
   "name": "python",
   "nbconvert_exporter": "python",
   "pygments_lexer": "ipython3",
   "version": "3.11.3"
  }
 },
 "nbformat": 4,
 "nbformat_minor": 5
}
