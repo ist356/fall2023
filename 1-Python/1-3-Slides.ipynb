{
 "cells": [
  {
   "cell_type": "markdown",
   "id": "f75458e1-0c44-4eea-8276-ed0a69fa7f53",
   "metadata": {},
   "source": [
    "# IST356 Python 1-3\n",
    "\n",
    "- Strings\n",
    "- Files\n",
    "- Functions (user Defined)\n"
   ]
  },
  {
   "cell_type": "markdown",
   "id": "61e8dd4f-9f57-41d1-9b60-639220477e40",
   "metadata": {
    "tags": []
   },
   "source": [
    "Strings: immutable sequences\n",
    "- string slicing\n",
    "- string methods, split()\n",
    "\n",
    "File I/O\n",
    "\n",
    "- Understanding Paths\n",
    "- with and Context Managers\n",
    "    - clean up after yourself automatically.\n",
    "- File modes \"r\", \"w\", \"a\"\n",
    "- Serialize / Deserialze in JSON format.\n",
    "- Exception handling when things go wrong\n",
    "    - exceptions are for run-time error handling\n",
    "\n",
    "User- Defined Functions\n",
    "\n",
    "- what and why of functions\n",
    "- def, arguments and return\n",
    "- calling a function\n",
    "- type hints (are just that... hints)\n",
    "- Docstrings\n",
    "- Always test your functions... assert!\n"
   ]
  },
  {
   "cell_type": "code",
   "execution_count": 31,
   "id": "4c2dcdbd-f5d5-469a-a6f1-f9fd8feb0269",
   "metadata": {
    "tags": []
   },
   "outputs": [],
   "source": [
    "def add(x: int, y: int) -> int:\n",
    "    '''\n",
    "    Adds two numbers x and y\n",
    "    '''\n",
    "    return x+y\n",
    "\n",
    "\n",
    "assert add(1, 1) == 2\n",
    "assert add(1.0, 1.0) == 2"
   ]
  },
  {
   "cell_type": "code",
   "execution_count": 30,
   "id": "11807d78-f714-418c-bf20-7576d07b92de",
   "metadata": {
    "tags": []
   },
   "outputs": [
    {
     "data": {
      "text/plain": [
       "'11'"
      ]
     },
     "execution_count": 30,
     "metadata": {},
     "output_type": "execute_result"
    }
   ],
   "source": [
    "add(\"1\",\"1\")"
   ]
  },
  {
   "cell_type": "code",
   "execution_count": null,
   "id": "665e519c-c380-43ea-9c17-c9bad438307e",
   "metadata": {},
   "outputs": [],
   "source": [
    "add("
   ]
  }
 ],
 "metadata": {
  "kernelspec": {
   "display_name": "Python 3 (ipykernel)",
   "language": "python",
   "name": "python3"
  },
  "language_info": {
   "codemirror_mode": {
    "name": "ipython",
    "version": 3
   },
   "file_extension": ".py",
   "mimetype": "text/x-python",
   "name": "python",
   "nbconvert_exporter": "python",
   "pygments_lexer": "ipython3",
   "version": "3.11.3"
  }
 },
 "nbformat": 4,
 "nbformat_minor": 5
}
