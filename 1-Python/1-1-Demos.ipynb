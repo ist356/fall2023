{
 "cells": [
  {
   "cell_type": "markdown",
   "id": "a1d053a5-e869-4173-9654-b183b5c8922e",
   "metadata": {},
   "source": [
    "# 1-1 Demos"
   ]
  },
  {
   "cell_type": "markdown",
   "id": "b7f9795d-7466-4420-b8d2-837a7fe5be63",
   "metadata": {
    "tags": []
   },
   "source": [
    "# Code Demo 1-1-1\n",
    "\n",
    "This demo will demonstrate\n",
    "\n",
    "- input and output\n",
    "- using type conversion\n",
    "- variable assignment, order of operations\n",
    "\n",
    "Task:\n",
    "\n",
    "- input two integers and add them together"
   ]
  },
  {
   "cell_type": "code",
   "execution_count": 4,
   "id": "6efbe8db-0d38-4cdf-a2ba-0835a19545d4",
   "metadata": {
    "tags": []
   },
   "outputs": [
    {
     "name": "stdin",
     "output_type": "stream",
     "text": [
      "Enter the first number: 10\n",
      "Enter the second number: 15\n"
     ]
    },
    {
     "name": "stdout",
     "output_type": "stream",
     "text": [
      "The total of 10 plus 15 is 1015\n"
     ]
    }
   ],
   "source": [
    "first_number = input(\"Enter the first number:\")\n",
    "second_number = input(\"Enter the second number:\")\n",
    "total = first_number + second_number\n",
    "print(\"The total of\", first_number, \"plus\", second_number, \"is\", total)"
   ]
  },
  {
   "cell_type": "code",
   "execution_count": 5,
   "id": "360bef6f-5834-4ddd-9670-b2b585837893",
   "metadata": {
    "tags": []
   },
   "outputs": [
    {
     "data": {
      "text/plain": [
       "str"
      ]
     },
     "execution_count": 5,
     "metadata": {},
     "output_type": "execute_result"
    }
   ],
   "source": [
    "# That didn't work! Why? Data Types!\n",
    "type(first_number)"
   ]
  },
  {
   "cell_type": "code",
   "execution_count": 6,
   "id": "6f8148db-445a-41f5-81e0-8e975c5299a5",
   "metadata": {
    "tags": []
   },
   "outputs": [
    {
     "name": "stdin",
     "output_type": "stream",
     "text": [
      "Enter the first number: 10\n",
      "Enter the second number: 15\n"
     ]
    },
    {
     "name": "stdout",
     "output_type": "stream",
     "text": [
      "The total of 10 plus 15 is 25.0\n"
     ]
    }
   ],
   "source": [
    "# we need the type of first_number and second_number to be int or float\n",
    "first_number = input(\"Enter the first number:\")\n",
    "second_number = input(\"Enter the second number:\")\n",
    "total = float(first_number) + float(second_number)\n",
    "print(\"The total of\", first_number, \"plus\", second_number, \"is\", total)"
   ]
  },
  {
   "cell_type": "code",
   "execution_count": 7,
   "id": "fcf6c999-4bc8-46d8-8cb1-232b00358800",
   "metadata": {
    "tags": []
   },
   "outputs": [
    {
     "name": "stdin",
     "output_type": "stream",
     "text": [
      "Enter the first number: 10\n",
      "Enter the second number: 15\n"
     ]
    },
    {
     "name": "stdout",
     "output_type": "stream",
     "text": [
      "The total of 10.0 plus 15.0 is 25.0\n"
     ]
    }
   ],
   "source": [
    "# it is common to convert the input just before assignment\n",
    "first_number = float(input(\"Enter the first number:\"))\n",
    "second_number = float(input(\"Enter the second number:\"))\n",
    "total = first_number + second_number\n",
    "print(\"The total of\", first_number, \"plus\", second_number, \"is\", total)"
   ]
  },
  {
   "cell_type": "markdown",
   "id": "da53beb3-047e-4437-881a-2579808ea03c",
   "metadata": {},
   "source": [
    "# Code Demo 1-1-2\n",
    "\n",
    "This demo will demonstrate:\n",
    "\n",
    "- boolean expressions, relational and logical operators\n",
    "- if ladder (multiple tests, single decisions)\n",
    "- one input, one output.\n",
    "- f string interpolation\n",
    "\n",
    "Task:\n",
    "\n",
    "- input a integer > 0 and then:\n",
    "    - if number is not >0 print \"result: follow instructions\"\n",
    "    - if the integer is divisible by two, print \"result: two\"\n",
    "    - if the integer is divisible by 5, print \"result: five\"\n",
    "    - if the integer is divisible by two and 5 print \"result: ten\""
   ]
  },
  {
   "cell_type": "code",
   "execution_count": 24,
   "id": "086cfbf5-b4e0-44c1-80bc-ce755c6045a8",
   "metadata": {
    "tags": []
   },
   "outputs": [
    {
     "data": {
      "text/plain": [
       "(0, 0)"
      ]
     },
     "execution_count": 24,
     "metadata": {},
     "output_type": "execute_result"
    }
   ],
   "source": [
    "# how do I say divisible by 2?\n",
    "n1 = 12\n",
    "n2 = 20\n",
    "n1 % 2, n2 % 2"
   ]
  },
  {
   "cell_type": "code",
   "execution_count": 21,
   "id": "57eca101-8920-4f8f-8e2e-82624499f407",
   "metadata": {
    "tags": []
   },
   "outputs": [
    {
     "name": "stdin",
     "output_type": "stream",
     "text": [
      "Enter an integer >0:  50\n"
     ]
    },
    {
     "name": "stdout",
     "output_type": "stream",
     "text": [
      "Result: ten\n"
     ]
    }
   ],
   "source": [
    "number = int(input(\"Enter an integer >0: \"))\n",
    "if not number >=0:\n",
    "    print(\"Result: Follow Instructions!\")\n",
    "elif number % 2 == 0 and number % 5 == 0:\n",
    "    print(\"Result: ten\")\n",
    "elif number % 2 == 0:\n",
    "    print(\"Result: two\")\n",
    "elif number % 5 == 0:\n",
    "    print(\"Result: five\")\n",
    "else:\n",
    "    print(\"Result: unknown\")"
   ]
  },
  {
   "cell_type": "code",
   "execution_count": 19,
   "id": "26d21fb9-57ae-476a-9b49-3894ee383091",
   "metadata": {
    "tags": []
   },
   "outputs": [
    {
     "data": {
      "text/plain": [
       "0"
      ]
     },
     "execution_count": 19,
     "metadata": {},
     "output_type": "execute_result"
    }
   ],
   "source": [
    "# this is better as it differentiates outuput from process with a variable.\n",
    "number = int(input(\"Enter an integer >0: \"))\n",
    "if not number >=0:\n",
    "    response = \"Follow Instructions!\"\n",
    "elif number % 2 == 0 and number % 5 == 0:\n",
    "    response = \"ten\"\n",
    "elif number % 2 == 0:\n",
    "    response = \"two\"\n",
    "elif number % 5 == 0:\n",
    "    response = \"five\"\n",
    "else:\n",
    "    response = \"Unknown\"\n",
    "\n",
    "print(f\"Result: {response}\")"
   ]
  },
  {
   "cell_type": "code",
   "execution_count": null,
   "id": "9d1cfa6c-8de9-4ddc-8866-e5f93cb7d7f9",
   "metadata": {},
   "outputs": [],
   "source": []
  }
 ],
 "metadata": {
  "kernelspec": {
   "display_name": "Python 3 (ipykernel)",
   "language": "python",
   "name": "python3"
  },
  "language_info": {
   "codemirror_mode": {
    "name": "ipython",
    "version": 3
   },
   "file_extension": ".py",
   "mimetype": "text/x-python",
   "name": "python",
   "nbconvert_exporter": "python",
   "pygments_lexer": "ipython3",
   "version": "3.11.3"
  }
 },
 "nbformat": 4,
 "nbformat_minor": 5
}
