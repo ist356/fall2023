{
 "cells": [
  {
   "cell_type": "code",
   "execution_count": 4,
   "id": "1c2ae5c8-cecb-47fe-8bd9-769ff2d99fb2",
   "metadata": {
    "tags": []
   },
   "outputs": [],
   "source": [
    "def sayHello(text: str) -> str:\n",
    "    '''\n",
    "    Says hello from this Notebook\n",
    "    '''\n",
    "    return f\"Hello, {text} from a Notebook!\"\n",
    "\n",
    "\n",
    "assert sayHello(\"x\") == f\"Hello, x from a Notebook!\""
   ]
  },
  {
   "cell_type": "code",
   "execution_count": null,
   "id": "b634fa1d-2867-4f1b-b7ea-8315406fa4e6",
   "metadata": {},
   "outputs": [],
   "source": []
  }
 ],
 "metadata": {
  "kernelspec": {
   "display_name": "Python 3 (ipykernel)",
   "language": "python",
   "name": "python3"
  },
  "language_info": {
   "codemirror_mode": {
    "name": "ipython",
    "version": 3
   },
   "file_extension": ".py",
   "mimetype": "text/x-python",
   "name": "python",
   "nbconvert_exporter": "python",
   "pygments_lexer": "ipython3",
   "version": "3.11.3"
  }
 },
 "nbformat": 4,
 "nbformat_minor": 5
}
