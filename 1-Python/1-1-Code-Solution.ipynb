{
 "cells": [
  {
   "cell_type": "code",
   "execution_count": 4,
   "id": "a23209f1-a24a-400f-b56a-f24c5977ae3b",
   "metadata": {
    "tags": []
   },
   "outputs": [
    {
     "name": "stdin",
     "output_type": "stream",
     "text": [
      "Enter Ability Score 1 - 18 2\n"
     ]
    },
    {
     "name": "stdout",
     "output_type": "stream",
     "text": [
      "For a score of 2 the modifier is -3\n"
     ]
    }
   ],
   "source": [
    "score = int(input(\"Enter Ability Score 1 - 18\"))\n",
    "if score >= 1 and score <= 18:\n",
    "    if score <= 3:\n",
    "        mod = -3\n",
    "    elif score <= 5:\n",
    "        mod = -2\n",
    "    elif score <= 7:\n",
    "        mod = -1\n",
    "    elif score <= 11:\n",
    "        mod = 0\n",
    "    elif score <= 14:\n",
    "        mod = 1\n",
    "    elif score <= 17:\n",
    "        mod = 2\n",
    "    else:\n",
    "        mod = 3\n",
    "\n",
    "    print(f\"For a score of {score} the modifier is {mod}\")\n",
    "\n",
    "else:\n",
    "    print(\"Invalid ability score!\")"
   ]
  },
  {
   "cell_type": "code",
   "execution_count": null,
   "id": "31ec5aff-574f-413a-b027-cebf56bdb8d9",
   "metadata": {},
   "outputs": [],
   "source": []
  }
 ],
 "metadata": {
  "kernelspec": {
   "display_name": "Python 3 (ipykernel)",
   "language": "python",
   "name": "python3"
  },
  "language_info": {
   "codemirror_mode": {
    "name": "ipython",
    "version": 3
   },
   "file_extension": ".py",
   "mimetype": "text/x-python",
   "name": "python",
   "nbconvert_exporter": "python",
   "pygments_lexer": "ipython3",
   "version": "3.11.3"
  }
 },
 "nbformat": 4,
 "nbformat_minor": 5
}
