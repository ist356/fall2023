{
 "cells": [
  {
   "cell_type": "markdown",
   "id": "aef08dbe-3bac-4102-a989-eb1790c0029c",
   "metadata": {
    "tags": []
   },
   "source": [
    "# TrustAll\n",
    "\n",
    "This code will trust all the `.ipynb` files in sub-folders. Run this when you cannot execute the `.ipynb` files due to \"trust issues\" :-)"
   ]
  },
  {
   "cell_type": "code",
   "execution_count": null,
   "id": "01f1221e",
   "metadata": {
    "tags": []
   },
   "outputs": [],
   "source": [
    "import subprocess\n",
    "import glob\n",
    "import os\n",
    "\n",
    "notebooks = os.path.join(os.getcwd(),\"**/*.ipynb\")\n",
    "for filespec in glob.glob(notebooks,recursive=True)[:]:\n",
    "    process = subprocess.run([\"jupyter\",\"trust\", filespec],stdout=subprocess.PIPE,stderr=subprocess.PIPE)\n",
    "    print(f\"Trusting: {process.stdout.decode('utf-8').strip()}\")\n",
    "    if process.returncode != 0:\n",
    "        print(f\"Error: {process.stderr.decode('utf-8').strip()}\")    \n",
    "                         "
   ]
  },
  {
   "cell_type": "code",
   "execution_count": null,
   "id": "30a85e69",
   "metadata": {},
   "outputs": [],
   "source": []
  }
 ],
 "metadata": {
  "kernelspec": {
   "display_name": "Python 3 (ipykernel)",
   "language": "python",
   "name": "python3"
  },
  "language_info": {
   "codemirror_mode": {
    "name": "ipython",
    "version": 3
   },
   "file_extension": ".py",
   "mimetype": "text/x-python",
   "name": "python",
   "nbconvert_exporter": "python",
   "pygments_lexer": "ipython3",
   "version": "3.11.3"
  },
  "varInspector": {
   "cols": {
    "lenName": 16,
    "lenType": 16,
    "lenVar": 40
   },
   "kernels_config": {
    "python": {
     "delete_cmd_postfix": "",
     "delete_cmd_prefix": "del ",
     "library": "var_list.py",
     "varRefreshCmd": "print(var_dic_list())"
    },
    "r": {
     "delete_cmd_postfix": ") ",
     "delete_cmd_prefix": "rm(",
     "library": "var_list.r",
     "varRefreshCmd": "cat(var_dic_list()) "
    }
   },
   "types_to_exclude": [
    "module",
    "function",
    "builtin_function_or_method",
    "instance",
    "_Feature"
   ],
   "window_display": false
  }
 },
 "nbformat": 4,
 "nbformat_minor": 5
}
